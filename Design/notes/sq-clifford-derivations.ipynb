{
 "cells": [
  {
   "cell_type": "markdown",
   "id": "middle-priest",
   "metadata": {},
   "source": [
    "In this notebook, we derive the group product and inverse tables for the single-qubit Clifford group, presented in terms of $C(e, s, x, w) \\mathrel{:=} E^e S^s X^x \\omega^w$ where $\\omega^8 = 1$ and where $E \\mathrel{:=} H S^3 \\omega^3$."
   ]
  },
  {
   "cell_type": "markdown",
   "id": "premier-baghdad",
   "metadata": {},
   "source": [
    "# Preamble"
   ]
  },
  {
   "cell_type": "code",
   "execution_count": 1,
   "id": "speaking-chemistry",
   "metadata": {},
   "outputs": [
    {
     "name": "stderr",
     "output_type": "stream",
     "text": [
      "C:\\Users\\cgran\\Anaconda3\\envs\\qdk-libraries-notes\\lib\\site-packages\\qutip\\__init__.py:169: UserWarning: matplotlib not found: Graphics will not work.\n",
      "  warnings.warn(\"matplotlib not found: Graphics will not work.\")\n"
     ]
    }
   ],
   "source": [
    "import numpy as np\n",
    "import qutip as qt"
   ]
  },
  {
   "cell_type": "code",
   "execution_count": 2,
   "id": "happy-purple",
   "metadata": {},
   "outputs": [],
   "source": [
    "X = qt.sigmax()\n",
    "H = qt.qip.operations.hadamard_transform()\n",
    "S = qt.qip.operations.phasegate(np.pi / 2)\n",
    "omega = np.exp(1j * np.pi / 4)\n",
    "E = H * (S ** 3) * (omega ** 3)\n",
    "I = qt.qeye(2)"
   ]
  },
  {
   "cell_type": "code",
   "execution_count": 3,
   "id": "noticed-track",
   "metadata": {},
   "outputs": [],
   "source": [
    "clifford_group = {\n",
    "    (e, s, x, w): (E ** e) * (S ** s) * (X ** x) * (omega ** w)\n",
    "    for e in range(3)\n",
    "    for s in range(4)\n",
    "    for x in range(2)\n",
    "    for w in range(8)\n",
    "}"
   ]
  },
  {
   "cell_type": "markdown",
   "id": "twelve-editor",
   "metadata": {},
   "source": [
    "# Group inverses"
   ]
  },
  {
   "cell_type": "code",
   "execution_count": 4,
   "id": "tired-feature",
   "metadata": {},
   "outputs": [],
   "source": [
    "def find_inverse(clifford):\n",
    "    for ((e, s, x, w), candidate) in clifford_group.items():\n",
    "        if (candidate * clifford - I).norm() <= 1e-10:\n",
    "            return (e, s, x, w)"
   ]
  },
  {
   "cell_type": "code",
   "execution_count": 5,
   "id": "standard-texture",
   "metadata": {},
   "outputs": [],
   "source": [
    "inverses = {\n",
    "    (e, s, x): find_inverse(clifford_group[(e, s, x, 0)])\n",
    "    for e in range(3)\n",
    "    for s in range(4)\n",
    "    for x in range(2)\n",
    "}"
   ]
  },
  {
   "cell_type": "markdown",
   "id": "tender-sheriff",
   "metadata": {},
   "source": [
    "We export this as a Q# table:"
   ]
  },
  {
   "cell_type": "code",
   "execution_count": 6,
   "id": "dutch-microwave",
   "metadata": {},
   "outputs": [
    {
     "data": {
      "text/latex": [
       "Quantum object: dims = [[2], [2]], shape = (2, 2), type = oper, isherm = True\\begin{equation*}\\left(\\begin{array}{*{11}c}0.0 & 1.0j\\\\-1.0j & 0.0\\\\\\end{array}\\right)\\end{equation*}"
      ],
      "text/plain": [
       "Quantum object: dims = [[2], [2]], shape = (2, 2), type = oper, isherm = True\n",
       "Qobj data =\n",
       "[[0.+0.j 0.+1.j]\n",
       " [0.-1.j 0.+0.j]]"
      ]
     },
     "execution_count": 6,
     "metadata": {},
     "output_type": "execute_result"
    }
   ],
   "source": [
    "clifford_group[(2, 3, 1, 2)] * clifford_group[(2, 1, 0, 6)]"
   ]
  },
  {
   "cell_type": "code",
   "execution_count": 7,
   "id": "searching-royalty",
   "metadata": {},
   "outputs": [
    {
     "name": "stdout",
     "output_type": "stream",
     "text": [
      "if   e == 0 and s == 0 and x == 0 { return SingleQubitClifford(0, 0, 0, 0); }\n",
      "elif e == 0 and s == 0 and x == 1 { return SingleQubitClifford(0, 0, 1, 0); }\n",
      "elif e == 0 and s == 1 and x == 0 { return SingleQubitClifford(0, 3, 0, 0); }\n",
      "elif e == 0 and s == 1 and x == 1 { return SingleQubitClifford(0, 1, 1, 6); }\n",
      "elif e == 0 and s == 2 and x == 0 { return SingleQubitClifford(0, 2, 0, 0); }\n",
      "elif e == 0 and s == 2 and x == 1 { return SingleQubitClifford(0, 2, 1, 4); }\n",
      "elif e == 0 and s == 3 and x == 0 { return SingleQubitClifford(0, 1, 0, 0); }\n",
      "elif e == 0 and s == 3 and x == 1 { return SingleQubitClifford(0, 3, 1, 2); }\n",
      "elif e == 1 and s == 0 and x == 0 { return SingleQubitClifford(2, 0, 0, 0); }\n",
      "elif e == 1 and s == 0 and x == 1 { return SingleQubitClifford(2, 2, 1, 6); }\n",
      "elif e == 1 and s == 1 and x == 0 { return SingleQubitClifford(1, 1, 0, 2); }\n",
      "elif e == 1 and s == 1 and x == 1 { return SingleQubitClifford(1, 3, 0, 2); }\n",
      "elif e == 1 and s == 2 and x == 0 { return SingleQubitClifford(2, 0, 1, 0); }\n",
      "elif e == 1 and s == 2 and x == 1 { return SingleQubitClifford(2, 2, 0, 6); }\n",
      "elif e == 1 and s == 3 and x == 0 { return SingleQubitClifford(1, 1, 1, 2); }\n",
      "elif e == 1 and s == 3 and x == 1 { return SingleQubitClifford(1, 3, 1, 2); }\n",
      "elif e == 2 and s == 0 and x == 0 { return SingleQubitClifford(1, 0, 0, 0); }\n",
      "elif e == 2 and s == 0 and x == 1 { return SingleQubitClifford(1, 2, 0, 0); }\n",
      "elif e == 2 and s == 1 and x == 0 { return SingleQubitClifford(2, 1, 1, 4); }\n",
      "elif e == 2 and s == 1 and x == 1 { return SingleQubitClifford(2, 1, 0, 4); }\n",
      "elif e == 2 and s == 2 and x == 0 { return SingleQubitClifford(1, 2, 1, 6); }\n",
      "elif e == 2 and s == 2 and x == 1 { return SingleQubitClifford(1, 0, 1, 6); }\n",
      "elif e == 2 and s == 3 and x == 0 { return SingleQubitClifford(2, 3, 0, 6); }\n",
      "elif e == 2 and s == 3 and x == 1 { return SingleQubitClifford(2, 3, 1, 2); }\n"
     ]
    }
   ],
   "source": [
    "for idx, ((e, s, x), (e_inv, s_inv, x_inv, w_inv)) in enumerate(inverses.items()):\n",
    "    clause = \"if  \" if idx == 0 else \"elif\"\n",
    "    print(f\"{clause} e == {e} and s == {s} and x == {x} {{ return SingleQubitClifford({e_inv}, {s_inv}, {x_inv}, {w_inv}); }}\")"
   ]
  },
  {
   "cell_type": "code",
   "execution_count": 8,
   "id": "patent-respondent",
   "metadata": {},
   "outputs": [
    {
     "data": {
      "text/latex": [
       "Quantum object: dims = [[2], [2]], shape = (2, 2), type = oper, isherm = True\\begin{equation*}\\left(\\begin{array}{*{11}c}1.0 & 0.0\\\\0.0 & 1.0\\\\\\end{array}\\right)\\end{equation*}"
      ],
      "text/plain": [
       "Quantum object: dims = [[2], [2]], shape = (2, 2), type = oper, isherm = True\n",
       "Qobj data =\n",
       "[[1. 0.]\n",
       " [0. 1.]]"
      ]
     },
     "execution_count": 8,
     "metadata": {},
     "output_type": "execute_result"
    }
   ],
   "source": [
    "clifford_group[1, 1, 1, 0] * clifford_group[1, 3, 0, 2]"
   ]
  },
  {
   "cell_type": "code",
   "execution_count": 9,
   "id": "arranged-locking",
   "metadata": {},
   "outputs": [
    {
     "data": {
      "text/latex": [
       "Quantum object: dims = [[2], [2]], shape = (2, 2), type = oper, isherm = True\\begin{equation*}\\left(\\begin{array}{*{11}c}1.0 & 0.0\\\\0.0 & 1.0\\\\\\end{array}\\right)\\end{equation*}"
      ],
      "text/plain": [
       "Quantum object: dims = [[2], [2]], shape = (2, 2), type = oper, isherm = True\n",
       "Qobj data =\n",
       "[[1. 0.]\n",
       " [0. 1.]]"
      ]
     },
     "execution_count": 9,
     "metadata": {},
     "output_type": "execute_result"
    }
   ],
   "source": [
    "clifford_group[1, 3, 0, 2] * clifford_group[1, 1, 1, 0]"
   ]
  },
  {
   "cell_type": "markdown",
   "id": "registered-committee",
   "metadata": {},
   "source": [
    "# Group Products"
   ]
  },
  {
   "cell_type": "markdown",
   "id": "funded-asian",
   "metadata": {},
   "source": [
    "Consider $C(e, s, x, w) \\cdot C(e', s', x', w') = E^e S^s X^x \\omega^w \\cdot E^{e'} S^{s'} X^{x'} \\omega^{w'} = E^e S^s X^x \\cdot E^{e'} S^{s'} X^{w'} \\omega^{w + w'}$.\n",
    "We need to commute $E^{e'}$ past $S^{s} X^{x}$ in order to combine the $E$ factors together."
   ]
  },
  {
   "cell_type": "markdown",
   "id": "metropolitan-sewing",
   "metadata": {},
   "source": [
    "Doing so will give us a new Clifford, so we start by making a table of Clifford operators of the form $S^{s} X^x E^{e'} = E^{e''} S^{s''} X^{x''} \\omega^{w''}$."
   ]
  },
  {
   "cell_type": "code",
   "execution_count": 10,
   "id": "systematic-uniform",
   "metadata": {},
   "outputs": [],
   "source": [
    "def find_sxe(s, x, ep):\n",
    "    prod = (S ** s) * (X ** x) * (E ** ep)\n",
    "    for ((e, s, x, w), candidate) in clifford_group.items():\n",
    "        if (candidate - prod).norm() <= 1e-10:\n",
    "            return (e, s, x, w)"
   ]
  },
  {
   "cell_type": "code",
   "execution_count": 11,
   "id": "numerous-event",
   "metadata": {},
   "outputs": [],
   "source": [
    "sxe_table = {\n",
    "    (s, x, ep): find_sxe(s, x, ep)\n",
    "    for s in range(4)\n",
    "    for x in range(2)\n",
    "    for ep in range(3)\n",
    "}"
   ]
  },
  {
   "cell_type": "code",
   "execution_count": 12,
   "id": "wrong-illustration",
   "metadata": {
    "scrolled": true
   },
   "outputs": [
    {
     "data": {
      "text/plain": [
       "{(0, 0, 0): (0, 0, 0, 0),\n",
       " (0, 0, 1): (1, 0, 0, 0),\n",
       " (0, 0, 2): (2, 0, 0, 0),\n",
       " (0, 1, 0): (0, 0, 1, 0),\n",
       " (0, 1, 1): (1, 2, 0, 0),\n",
       " (0, 1, 2): (2, 2, 1, 6),\n",
       " (1, 0, 0): (0, 1, 0, 0),\n",
       " (1, 0, 1): (2, 3, 0, 6),\n",
       " (1, 0, 2): (1, 1, 1, 2),\n",
       " (1, 1, 0): (0, 1, 1, 0),\n",
       " (1, 1, 1): (2, 1, 0, 6),\n",
       " (1, 1, 2): (1, 3, 0, 4),\n",
       " (2, 0, 0): (0, 2, 0, 0),\n",
       " (2, 0, 1): (1, 2, 1, 6),\n",
       " (2, 0, 2): (2, 0, 1, 0),\n",
       " (2, 1, 0): (0, 2, 1, 0),\n",
       " (2, 1, 1): (1, 0, 1, 2),\n",
       " (2, 1, 2): (2, 2, 0, 2),\n",
       " (3, 0, 0): (0, 3, 0, 0),\n",
       " (3, 0, 1): (2, 1, 1, 4),\n",
       " (3, 0, 2): (1, 1, 0, 2),\n",
       " (3, 1, 0): (0, 3, 1, 0),\n",
       " (3, 1, 1): (2, 3, 1, 0),\n",
       " (3, 1, 2): (1, 3, 1, 0)}"
      ]
     },
     "execution_count": 12,
     "metadata": {},
     "output_type": "execute_result"
    }
   ],
   "source": [
    "sxe_table"
   ]
  },
  {
   "cell_type": "code",
   "execution_count": 13,
   "id": "following-payment",
   "metadata": {
    "scrolled": false
   },
   "outputs": [
    {
     "name": "stdout",
     "output_type": "stream",
     "text": [
      "if   s == 0 and x == 0 and ep == 0 { return SingleQubitClifford(0, 0, 0, 0); }\n",
      "elif s == 0 and x == 0 and ep == 1 { return SingleQubitClifford(1, 0, 0, 0); }\n",
      "elif s == 0 and x == 0 and ep == 2 { return SingleQubitClifford(2, 0, 0, 0); }\n",
      "elif s == 0 and x == 1 and ep == 0 { return SingleQubitClifford(0, 0, 1, 0); }\n",
      "elif s == 0 and x == 1 and ep == 1 { return SingleQubitClifford(1, 2, 0, 0); }\n",
      "elif s == 0 and x == 1 and ep == 2 { return SingleQubitClifford(2, 2, 1, 6); }\n",
      "elif s == 1 and x == 0 and ep == 0 { return SingleQubitClifford(0, 1, 0, 0); }\n",
      "elif s == 1 and x == 0 and ep == 1 { return SingleQubitClifford(2, 3, 0, 6); }\n",
      "elif s == 1 and x == 0 and ep == 2 { return SingleQubitClifford(1, 1, 1, 2); }\n",
      "elif s == 1 and x == 1 and ep == 0 { return SingleQubitClifford(0, 1, 1, 0); }\n",
      "elif s == 1 and x == 1 and ep == 1 { return SingleQubitClifford(2, 1, 0, 6); }\n",
      "elif s == 1 and x == 1 and ep == 2 { return SingleQubitClifford(1, 3, 0, 4); }\n",
      "elif s == 2 and x == 0 and ep == 0 { return SingleQubitClifford(0, 2, 0, 0); }\n",
      "elif s == 2 and x == 0 and ep == 1 { return SingleQubitClifford(1, 2, 1, 6); }\n",
      "elif s == 2 and x == 0 and ep == 2 { return SingleQubitClifford(2, 0, 1, 0); }\n",
      "elif s == 2 and x == 1 and ep == 0 { return SingleQubitClifford(0, 2, 1, 0); }\n",
      "elif s == 2 and x == 1 and ep == 1 { return SingleQubitClifford(1, 0, 1, 2); }\n",
      "elif s == 2 and x == 1 and ep == 2 { return SingleQubitClifford(2, 2, 0, 2); }\n",
      "elif s == 3 and x == 0 and ep == 0 { return SingleQubitClifford(0, 3, 0, 0); }\n",
      "elif s == 3 and x == 0 and ep == 1 { return SingleQubitClifford(2, 1, 1, 4); }\n",
      "elif s == 3 and x == 0 and ep == 2 { return SingleQubitClifford(1, 1, 0, 2); }\n",
      "elif s == 3 and x == 1 and ep == 0 { return SingleQubitClifford(0, 3, 1, 0); }\n",
      "elif s == 3 and x == 1 and ep == 1 { return SingleQubitClifford(2, 3, 1, 0); }\n",
      "elif s == 3 and x == 1 and ep == 2 { return SingleQubitClifford(1, 3, 1, 0); }\n"
     ]
    }
   ],
   "source": [
    "for idx, ((s, x, ep), (epp, spp, xpp, wpp)) in enumerate(sxe_table.items()):\n",
    "    clause = \"if  \" if idx == 0 else \"elif\"\n",
    "    print(f\"{clause} s == {s} and x == {x} and ep == {ep} {{ return SingleQubitClifford({epp}, {spp}, {xpp}, {wpp}); }}\")"
   ]
  },
  {
   "cell_type": "markdown",
   "id": "starting-activity",
   "metadata": {},
   "source": [
    "Using this table, we now have an operator of the form $E^e S^s X^x \\cdot E^{e'} S^{s'} X^{w'} = E^{e} E^{e''} S^{s''} X^{x''} S^{s'} X^{x'} \\omega^{w''} = E^{e + e''} S^{s''} X^{x''} S^{s'} X^{x'} \\omega^{w''}$.\n",
    "Considering the factor $S^{s''} X^{x''} S^{s'} X^{x'}$, we can simplify by finding $s'''$, $x'''$, and $w'''$ such that $S^{s''} X^{x''} S^{s'} X^{x'} = S^{s''} S^{s'''} X^{x'''} X^{x'} \\omega^{w'''} = S^{s'' + s'''} X^{x''' + x'} \\omega^{w'''}$."
   ]
  },
  {
   "cell_type": "code",
   "execution_count": 14,
   "id": "oriental-programming",
   "metadata": {},
   "outputs": [],
   "source": [
    "from itertools import product"
   ]
  },
  {
   "cell_type": "code",
   "execution_count": 15,
   "id": "cellular-extraction",
   "metadata": {},
   "outputs": [],
   "source": [
    "def find_sx(xpp, sp):\n",
    "    prod = (X ** xpp) * (S ** sp)\n",
    "    for (sppp, xppp, wppp) in product(range(4), range(2), range(8)):\n",
    "        if (clifford_group[0, sppp, xppp, wppp] - prod).norm() <= 1e-10:\n",
    "            return (sppp, xppp, wppp)"
   ]
  },
  {
   "cell_type": "code",
   "execution_count": 16,
   "id": "centered-kelly",
   "metadata": {},
   "outputs": [],
   "source": [
    "sx_table = {\n",
    "    (xpp, sp): find_sx(xpp, sp)\n",
    "    for xpp in range(2)\n",
    "    for sp in range(4)\n",
    "}"
   ]
  },
  {
   "cell_type": "code",
   "execution_count": 17,
   "id": "stuck-guess",
   "metadata": {},
   "outputs": [
    {
     "data": {
      "text/plain": [
       "{(0, 0): (0, 0, 0),\n",
       " (0, 1): (1, 0, 0),\n",
       " (0, 2): (2, 0, 0),\n",
       " (0, 3): (3, 0, 0),\n",
       " (1, 0): (0, 1, 0),\n",
       " (1, 1): (3, 1, 2),\n",
       " (1, 2): (2, 1, 4),\n",
       " (1, 3): (1, 1, 6)}"
      ]
     },
     "execution_count": 17,
     "metadata": {},
     "output_type": "execute_result"
    }
   ],
   "source": [
    "sx_table"
   ]
  },
  {
   "cell_type": "code",
   "execution_count": 18,
   "id": "classified-crisis",
   "metadata": {},
   "outputs": [
    {
     "name": "stdout",
     "output_type": "stream",
     "text": [
      "if   xpp == 0 and sp == 0 { return SingleQubitClifford(0, 0, 0, 0); }\n",
      "elif xpp == 0 and sp == 1 { return SingleQubitClifford(0, 1, 0, 0); }\n",
      "elif xpp == 0 and sp == 2 { return SingleQubitClifford(0, 2, 0, 0); }\n",
      "elif xpp == 0 and sp == 3 { return SingleQubitClifford(0, 3, 0, 0); }\n",
      "elif xpp == 1 and sp == 0 { return SingleQubitClifford(0, 0, 1, 0); }\n",
      "elif xpp == 1 and sp == 1 { return SingleQubitClifford(0, 3, 1, 2); }\n",
      "elif xpp == 1 and sp == 2 { return SingleQubitClifford(0, 2, 1, 4); }\n",
      "elif xpp == 1 and sp == 3 { return SingleQubitClifford(0, 1, 1, 6); }\n"
     ]
    }
   ],
   "source": [
    "for idx, ((xpp, sp), (sppp, xppp, wppp)) in enumerate(sx_table.items()):\n",
    "    clause = \"if  \" if idx == 0 else \"elif\"\n",
    "    print(f\"{clause} xpp == {xpp} and sp == {sp} {{ return SingleQubitClifford(0, {sppp}, {xppp}, {wppp}); }}\")"
   ]
  },
  {
   "cell_type": "code",
   "execution_count": null,
   "id": "greater-howard",
   "metadata": {},
   "outputs": [],
   "source": []
  }
 ],
 "metadata": {
  "kernelspec": {
   "display_name": "Python 3",
   "language": "python",
   "name": "python3"
  },
  "language_info": {
   "codemirror_mode": {
    "name": "ipython",
    "version": 3
   },
   "file_extension": ".py",
   "mimetype": "text/x-python",
   "name": "python",
   "nbconvert_exporter": "python",
   "pygments_lexer": "ipython3",
   "version": "3.9.1"
  }
 },
 "nbformat": 4,
 "nbformat_minor": 5
}
