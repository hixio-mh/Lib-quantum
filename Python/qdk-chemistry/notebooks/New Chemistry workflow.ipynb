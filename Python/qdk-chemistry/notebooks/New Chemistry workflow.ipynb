{
 "cells": [
  {
   "cell_type": "markdown",
   "metadata": {},
   "source": [
    "### 1. Load molecule"
   ]
  },
  {
   "cell_type": "code",
   "execution_count": 1,
   "metadata": {
    "scrolled": true
   },
   "outputs": [],
   "source": [
    "from qdk_chemistry import Molecule"
   ]
  },
  {
   "cell_type": "code",
   "execution_count": 2,
   "metadata": {},
   "outputs": [],
   "source": [
    "caffeine = Molecule.from_xyz(\"data/caffeine.xyz\")"
   ]
  },
  {
   "cell_type": "code",
   "execution_count": 3,
   "metadata": {},
   "outputs": [
    {
     "name": "stdout",
     "output_type": "stream",
     "text": [
      "24\r\n",
      "Caffeine\r\n",
      "H      -3.3804130    -1.1272367     0.5733036\r\n",
      "N       0.9668296    -1.0737425    -0.8198227\r\n",
      "C       0.0567293     0.8527195     0.3923156\r\n",
      "N      -1.3751742    -1.0212243    -0.0570552\r\n",
      "C      -1.2615018     0.2590713     0.5234135\r\n",
      "C      -0.3068337    -1.6836331    -0.7169344\r\n",
      "C       1.1394235     0.1874122    -0.2700900\r\n",
      "N       0.5602627     2.0839095     0.8251589\r\n",
      "O      -0.4926797    -2.8180554    -1.2094732\r\n",
      "C      -2.6328073    -1.7303959    -0.0060953\r\n",
      "O      -2.2301338     0.7988624     1.0899730\r\n",
      "H       2.5496990     2.9734977     0.6229590\r\n",
      "C       2.0527432    -1.7360887    -1.4931279\r\n",
      "H      -2.4807715    -2.7269528     0.4882631\r\n",
      "H      -3.0089039    -1.9025254    -1.0498023\r\n",
      "H       2.9176101    -1.8481516    -0.7857866\r\n",
      "H       2.3787863    -1.1211917    -2.3743655\r\n",
      "H       1.7189877    -2.7489920    -1.8439205\r\n",
      "C      -0.1518450     3.0970046     1.5348347\r\n",
      "C       1.8934096     2.1181245     0.4193193\r\n",
      "N       2.2861252     0.9968439    -0.2440298\r\n",
      "H      -0.1687028     4.0436553     0.9301094\r\n",
      "H       0.3535322     3.2979060     2.5177747\r\n",
      "H      -1.2074498     2.7537592     1.7203047\r\n"
     ]
    }
   ],
   "source": [
    "cat \"data/caffeine.xyz\""
   ]
  },
  {
   "cell_type": "code",
   "execution_count": 4,
   "metadata": {},
   "outputs": [
    {
     "data": {
      "image/png": "[encoded data removed]",
      "text/plain": [
       "<rdkit.Chem.rdchem.Mol at 0x7f251ef08670>"
      ]
     },
     "execution_count": 4,
     "metadata": {},
     "output_type": "execute_result"
    }
   ],
   "source": [
    "caffeine.mol"
   ]
  },
  {
   "cell_type": "code",
   "execution_count": 5,
   "metadata": {},
   "outputs": [
    {
     "data": {
      "text/plain": [
       "rdkit.Chem.rdchem.Mol"
      ]
     },
     "execution_count": 5,
     "metadata": {},
     "output_type": "execute_result"
    }
   ],
   "source": [
    "type(caffeine.mol)"
   ]
  },
  {
   "cell_type": "code",
   "execution_count": 6,
   "metadata": {},
   "outputs": [
    {
     "data": {
      "text/plain": [
       "'[H]Cn1c(=O)c2c(ncn2C)n(C)c1=O'"
      ]
     },
     "execution_count": 6,
     "metadata": {},
     "output_type": "execute_result"
    }
   ],
   "source": [
    "caffeine.smiles"
   ]
  },
  {
   "cell_type": "code",
   "execution_count": 7,
   "metadata": {},
   "outputs": [
    {
     "data": {
      "text/plain": [
       "102"
      ]
     },
     "execution_count": 7,
     "metadata": {},
     "output_type": "execute_result"
    }
   ],
   "source": [
    "caffeine.num_electrons"
   ]
  },
  {
   "cell_type": "code",
   "execution_count": 8,
   "metadata": {},
   "outputs": [
    {
     "data": {
      "text/plain": [
       "[1, 6, 7, 8]"
      ]
     },
     "execution_count": 8,
     "metadata": {},
     "output_type": "execute_result"
    }
   ],
   "source": [
    "caffeine.atoms"
   ]
  },
  {
   "cell_type": "code",
   "execution_count": 51,
   "metadata": {},
   "outputs": [],
   "source": [
    "pattern = \"#BASIS SET: \\([\\d[spdf]*[,]*]*\\) -> \\[((\\d)([spdf])*[,]*)*\\]\\n(\\w+)\""
   ]
  },
  {
   "cell_type": "code",
   "execution_count": 52,
   "metadata": {},
   "outputs": [],
   "source": [
    "import re"
   ]
  },
  {
   "cell_type": "code",
   "execution_count": 53,
   "metadata": {},
   "outputs": [
    {
     "data": {
      "text/plain": [
       "[('1s', '1', 's', 'H')]"
      ]
     },
     "execution_count": 53,
     "metadata": {},
     "output_type": "execute_result"
    }
   ],
   "source": [
    "re.findall(pattern, basis)"
   ]
  },
  {
   "cell_type": "code",
   "execution_count": 166,
   "metadata": {},
   "outputs": [],
   "source": [
    "import basis_set_exchange as bse\n",
    "\n",
    "# Obtain the STO-3G basis set in nwchem format (as a string) for hydrogen and carbon\n",
    "basis = bse.get_basis('STO-3G', elements=caffeine.atoms, fmt='nwchem')"
   ]
  },
  {
   "cell_type": "code",
   "execution_count": 168,
   "metadata": {},
   "outputs": [
    {
     "data": {
      "text/plain": [
       "[('1s', 'H'), ('2s,1p', 'C'), ('2s,1p', 'N'), ('2s,1p', 'O')]"
      ]
     },
     "execution_count": 168,
     "metadata": {},
     "output_type": "execute_result"
    }
   ],
   "source": [
    "re.findall(\"-> \\[(\\d*[spdf],*\\d*[spdf]*,*\\d*[spdf]*)\\]\\n(\\w+)\", basis)"
   ]
  },
  {
   "cell_type": "markdown",
   "metadata": {},
   "source": [
    "#### Create NWChem input file"
   ]
  },
  {
   "cell_type": "code",
   "execution_count": 14,
   "metadata": {},
   "outputs": [
    {
     "data": {
      "text/plain": [
       "'./data/caffeine.nw'"
      ]
     },
     "execution_count": 14,
     "metadata": {},
     "output_type": "execute_result"
    }
   ],
   "source": [
    "caffeine.create_input(\n",
    "    \"caffeine\", \n",
    "    \"data/caffeine.nw\", \n",
    "    solver=\"nwchem\",\n",
    "    num_active_orbitals=80,\n",
    "    num_active_el=102\n",
    ")"
   ]
  },
  {
   "cell_type": "code",
   "execution_count": 15,
   "metadata": {
    "collapsed": true
   },
   "outputs": [
    {
     "name": "stdout",
     "output_type": "stream",
     "text": [
      "\r\n",
      "start caffeine\r\n",
      "\r\n",
      "echo\r\n",
      "memory stack 1000 mb heap 100 mb global 1000 mb noverify\r\n",
      "\r\n",
      "geometry units au\r\n",
      "symmetry c1\r\n",
      "H -1.6361564747994686 3.018292114901333 -1.456895683246307\r\n",
      "N -1.5157636450975738 -0.7185143912632502 -0.04156806304513151\r\n",
      "C 0.8058315025934746 -0.16450929221604926 0.09588391928942556\r\n",
      "N -0.7619581615772606 1.5425120958116945 -0.2779413519909288\r\n",
      "C 0.5891807412545974 1.2246061357002906 -0.11148594679729994\r\n",
      "C -1.8325413226393594 0.6239659603448647 -0.25179419508992884\r\n",
      "C -0.20135746611114919 -1.0805072443000097 0.12747987310851724\r\n",
      "N 1.946213475906592 -0.8876357978354701 0.2977852452692874\r\n",
      "O -2.9970934100977398 1.0028603553481963 -0.40942089570202334\r\n",
      "C -1.1151151897353606 2.9313333952997094 -0.4977499463120713\r\n",
      "O 1.5042766923301956 2.0421694476658794 -0.13821075917745576\r\n",
      "H 2.280415469643988 -2.9972906871024385 0.6131853071417465\r\n",
      "C -2.558790597134906 -1.7270397382021516 -0.0007473173209522081\r\n",
      "H -1.796409657372379 3.2549778673574115 0.29603725942485565\r\n",
      "H -0.24378732575229284 3.590718028804306 -0.5071254245690618\r\n",
      "H -2.5376285677136625 -2.2237370790759257 0.9744758438492075\r\n",
      "H -3.5512343650993072 -1.2938239466367554 -0.14998105977162046\r\n",
      "H -2.376214837405728 -2.4621326521222184 -0.791013716562394\r\n",
      "C 3.2925348339982943 -0.37723842974078303 0.351964802061909\r\n",
      "C 1.5711349498324128 -2.1974728864727306 0.44034727997697587\r\n",
      "N 0.2645643254213084 -2.3426759872631333 0.3404981540757144\r\n",
      "H 3.9882938737869478 -1.2018953807333557 0.5269410221368531\r\n",
      "H 3.521982590538525 0.10162827823635494 -0.6031746282311322\r\n",
      "H 3.359622565228513 0.34140983349500015 1.172510281481978\r\n",
      "end\r\n",
      "\r\n",
      "basis\r\n",
      "* library sto-3g\r\n",
      "end\r\n",
      "\r\n",
      "\r\n",
      "\r\n",
      "scf\r\n",
      "thresh 1.0e-08\r\n",
      "tol2e 1e-09\r\n",
      "singlet\r\n",
      "rhf\r\n",
      "maxiter 200\r\n",
      "\r\n",
      "end\r\n",
      "\r\n",
      "tce\r\n",
      "ccsd\r\n",
      "2eorb\r\n",
      "2emet 13\r\n",
      "tilesize 10\r\n",
      "\r\n",
      "thresh 1.0e-08\r\n",
      "end\r\n",
      "\r\n",
      "set tce:print_integrals T\r\n",
      "set tce:qorb 80\r\n",
      "set tce:qela 51\r\n",
      "set tce:qelb 51\r\n",
      "\r\n",
      "task tce energy\r\n"
     ]
    }
   ],
   "source": [
    "cat './data/caffeine.nw'"
   ]
  },
  {
   "cell_type": "markdown",
   "metadata": {},
   "source": [
    "### 2. Convert to Broombridge using POST request to EMSL Arrows"
   ]
  },
  {
   "cell_type": "code",
   "execution_count": 18,
   "metadata": {},
   "outputs": [],
   "source": [
    "caffeine.to_broombridge(file_path=\"data/caffeine.yaml\", url=\"https://arrows.emsl.pnnl.gov/api/broombridge/\")"
   ]
  },
  {
   "cell_type": "code",
   "execution_count": 19,
   "metadata": {
    "scrolled": true
   },
   "outputs": [
    {
     "name": "stdout",
     "output_type": "stream",
     "text": [
      "$schema: https://raw.githubusercontent.com/Microsoft/Quantum/master/Chemistry/Schema/broombridge-0.1.schema.json\r\n",
      "format: {version: '0.1'}\r\n",
      "generator: {source: nwchem, version: '6.8'}\r\n",
      "integral_sets:\r\n",
      "- basis_set: {name: sto-3g, type: gaussian}\r\n",
      "  coulomb_repulsion: {units: hartree, value: 929.3750693761446}\r\n",
      "  energy_offset: {units: hartree, value: 0.0}\r\n",
      "  fci_energy: {lower: 0.0, units: hartree, upper: 0.0, value: 0.0}\r\n",
      "  geometry:\r\n",
      "    atoms:\r\n",
      "    - coords: [-3.01049459, 1.70509805, -0.00287664]\r\n",
      "      name: C\r\n",
      "    - coords: [-1.55451359, 1.65801005, -0.00308664]\r\n",
      "      name: N\r\n",
      "    - coords: [-0.70237259, 2.70721005, -0.00440764]\r\n",
      "      name: C\r\n",
      "    - coords: [0.57713141, 2.35269805, -0.00394964]\r\n",
      "      name: N\r\n",
      "    - coords: [0.53763041, 0.99727505, -0.00215464]\r\n",
      "      name: C\r\n",
      "    - coords: [-0.75617759, 0.52662905, -0.00157564]\r\n",
      "      name: C\r\n",
      "    - coords: [-1.08542359, -0.86328495, 0.00088936]\r\n",
      "      name: C\r\n",
      "    - coords: [-2.21226559, -1.33949695, 0.00054036]\r\n",
      "      name: O\r\n",
      "    - coords: [0.07802241, -1.66789995, 0.00412836]\r\n",
      "      name: N\r\n",
      "    - coords: [1.41091941, -1.22249695, 0.00179336]\r\n",
      "      name: C\r\n",
      "    - coords: [2.33265841, -2.01836795, 0.00251736]\r\n",
      "      name: O\r\n",
      "    - coords: [1.61715141, 0.15234405, -0.00112464]\r\n",
      "      name: N\r\n",
      "    - coords: [2.97680841, 0.68893405, -0.00219164]\r\n",
      "      name: C\r\n",
      "    - coords: [-0.09294959, -3.12445195, 0.00937836]\r\n",
      "      name: C\r\n",
      "    - coords: [-3.31869859, 2.74741405, -0.00348164]\r\n",
      "      name: H\r\n",
      "    - coords: [-3.40302159, 1.20674705, 0.87980136]\r\n",
      "      name: H\r\n",
      "    - coords: [-3.40335859, 1.20561105, -0.88477064]\r\n",
      "      name: H\r\n",
      "    - coords: [-1.05598259, 3.72475305, -0.00555064]\r\n",
      "      name: H\r\n",
      "    - coords: [3.66210441, -0.14993995, -0.00262764]\r\n",
      "      name: H\r\n",
      "    - coords: [3.13428841, 1.30350205, 0.88212236]\r\n",
      "      name: H\r\n",
      "    - coords: [3.13284341, 1.30333305, -0.88685164]\r\n",
      "      name: H\r\n",
      "    - coords: [-1.15710359, -3.32705695, 0.01146136]\r\n",
      "      name: H\r\n",
      "    - coords: [0.37805441, -3.55027795, 0.89201836]\r\n",
      "      name: H\r\n",
      "    - coords: [0.37554841, -3.55670595, -0.87148464]\r\n",
      "      name: H\r\n",
      "    coordinate_system: cartesian\r\n",
      "    symmetry: c1\r\n",
      "    units: angstrom\r\n",
      "  hamiltonian:\r\n",
      "    one_electron_integrals:\r\n",
      "      format: sparse\r\n",
      "      units: hartree\r\n",
      "      values:\r\n",
      "      - [1, 1, -23.4480313652]\r\n",
      "      - [2, 1, -0.1961120201]\r\n",
      "      - [1, 2, -0.1961120201]\r\n",
      "      - [2, 2, -22.9779751285]\r\n",
      "    two_electron_integrals:\r\n",
      "      format: sparse\r\n",
      "      index_convention: mulliken\r\n",
      "      units: hartree\r\n",
      "      values:\r\n",
      "      - [1, 1, 1, 1, 0.3044706771]\r\n",
      "      - [2, 1, 1, 1, -0.0036336851]\r\n",
      "      - [2, 1, 2, 1, 0.0551063247]\r\n",
      "      - [2, 2, 1, 1, 0.2636416931]\r\n",
      "      - [2, 2, 2, 1, 0.014724794]\r\n",
      "      - [2, 2, 2, 2, 0.3061558633]\r\n",
      "  initial_state_suggestions:\r\n",
      "  - state:\r\n",
      "      energy: {units: hartree, value: -667.7310140933267}\r\n",
      "      label: '|G>'\r\n",
      "      superposition:\r\n",
      "      - [1.0, (1a)+, (1b)+, '|0>']\r\n",
      "  metadata: {molecule_name: unknown}\r\n",
      "  n_electrons: 2\r\n",
      "  n_orbitals: 2\r\n",
      "  scf_energy: {units: hartree, value: -667.72572623}\r\n",
      "  scf_energy_offset: {units: hartree, value: -1550.50920355}\r\n"
     ]
    }
   ],
   "source": [
    "cat data/caffeine.yaml"
   ]
  },
  {
   "cell_type": "code",
   "execution_count": 9,
   "metadata": {},
   "outputs": [
    {
     "data": {
      "application/vnd.jupyter.widget-view+json": {
       "model_id": "b18b10686d4149a29bf7c7c7f4ae0831",
       "version_major": 2,
       "version_minor": 0
      },
      "text/plain": [
       "JsmolWidget(layout=Layout(align_self='stretch', height='400px'))"
      ]
     },
     "metadata": {},
     "output_type": "display_data"
    }
   ],
   "source": [
    "pyridine = Molecule.from_xyz(\"data/pyridine.xyz\")\n",
    "pyridine"
   ]
  },
  {
   "cell_type": "code",
   "execution_count": null,
   "metadata": {},
   "outputs": [],
   "source": [
    "pyridine.to_broombridge(file_path=\"data/pyridine.yaml\", url=\"https://arrows.emsl.pnnl.gov/api/broombridge/\")"
   ]
  },
  {
   "cell_type": "code",
   "execution_count": null,
   "metadata": {
    "scrolled": true
   },
   "outputs": [],
   "source": [
    "cat data/pyridine.yaml"
   ]
  },
  {
   "cell_type": "markdown",
   "metadata": {},
   "source": [
    "### 3. Load Broombridge and simulate in Q#"
   ]
  },
  {
   "cell_type": "code",
   "execution_count": null,
   "metadata": {
    "scrolled": true
   },
   "outputs": [],
   "source": [
    "import qsharp\n",
    "qsharp.reload()\n",
    "\n",
    "from QDK.Chemistry.Trotterization import GetEnergyByTrotterization"
   ]
  },
  {
   "cell_type": "code",
   "execution_count": null,
   "metadata": {
    "scrolled": true
   },
   "outputs": [],
   "source": [
    "from qsharp_chemistry import load_and_encode"
   ]
  },
  {
   "cell_type": "markdown",
   "metadata": {},
   "source": [
    "### Caffeine"
   ]
  },
  {
   "cell_type": "code",
   "execution_count": null,
   "metadata": {
    "scrolled": true
   },
   "outputs": [],
   "source": [
    "encoded_data_caffeine = load_and_encode(\"data/caffeine.yaml\")"
   ]
  },
  {
   "cell_type": "code",
   "execution_count": null,
   "metadata": {},
   "outputs": [],
   "source": [
    "%%time\n",
    "GetEnergyByTrotterization.estimate_resources(\n",
    "    JWEncodedData=encoded_data_caffeine, \n",
    "    nBitsPrecision=7,\n",
    "    trotterStepSize=0.4, \n",
    "    trotterOrder=1)"
   ]
  },
  {
   "cell_type": "markdown",
   "metadata": {},
   "source": [
    "### Pyridine"
   ]
  },
  {
   "cell_type": "code",
   "execution_count": null,
   "metadata": {},
   "outputs": [],
   "source": [
    "encoded_data_pyridine = load_and_encode(\"data/pyridine.yaml\")"
   ]
  },
  {
   "cell_type": "code",
   "execution_count": null,
   "metadata": {
    "scrolled": false
   },
   "outputs": [],
   "source": [
    "%%time\n",
    "GetEnergyByTrotterization.estimate_resources(\n",
    "    JWEncodedData=encoded_data_pyridine, \n",
    "    nBitsPrecision=7,\n",
    "    trotterStepSize=0.4, \n",
    "    trotterOrder=1)"
   ]
  },
  {
   "cell_type": "code",
   "execution_count": null,
   "metadata": {},
   "outputs": [],
   "source": []
  }
 ],
 "metadata": {
  "kernelspec": {
   "display_name": "Python 3",
   "language": "python",
   "name": "python3"
  },
  "language_info": {
   "codemirror_mode": {
    "name": "ipython",
    "version": 3
   },
   "file_extension": ".py",
   "mimetype": "text/x-python",
   "name": "python",
   "nbconvert_exporter": "python",
   "pygments_lexer": "ipython3",
   "version": "3.7.9"
  }
 },
 "nbformat": 4,
 "nbformat_minor": 4
}
