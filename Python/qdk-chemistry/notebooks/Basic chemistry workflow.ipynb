{
 "cells": [
  {
   "cell_type": "markdown",
   "metadata": {},
   "source": [
    "# Load Broombridge and simulate with Q#"
   ]
  },
  {
   "cell_type": "code",
   "execution_count": 2,
   "metadata": {},
   "outputs": [],
   "source": [
    "import qsharp"
   ]
  },
  {
   "cell_type": "code",
   "execution_count": 3,
   "metadata": {},
   "outputs": [
    {
     "data": {
      "application/json": "{\"LastUpdated\":\"2020-12-11T14:08:48.4758258-08:00\",\"IsCompleted\":false,\"Description\":\"Adding package microsoft.quantum.chemistry.jupyter\",\"Subtask\":null}",
      "text/plain": [
       "Adding package microsoft.quantum.chemistry.jupyter."
      ]
     },
     "metadata": {},
     "output_type": "display_data"
    }
   ],
   "source": [
    "from qsharp.chemistry import load_and_encode"
   ]
  },
  {
   "cell_type": "code",
   "execution_count": 4,
   "metadata": {},
   "outputs": [],
   "source": [
    "filename = \"microsoft_qsharp_chem57369.yaml\"\n",
    "num_qubits, hamiltonian_term_list, input_state_terms, energy_offset = load_and_encode(ferm_hamiltonian, input_state)"
   ]
  },
  {
   "cell_type": "code",
   "execution_count": 5,
   "metadata": {},
   "outputs": [
    {
     "name": "stdout",
     "output_type": "stream",
     "text": [
      "cat: TrotterizationExample.csproj: No such file or directory\r\n"
     ]
    }
   ],
   "source": [
    "cat TrotterizationExample.csproj"
   ]
  },
  {
   "cell_type": "code",
   "execution_count": 6,
   "metadata": {},
   "outputs": [
    {
     "name": "stdout",
     "output_type": "stream",
     "text": [
      "namespace QDK.Chemistry.Trotterization {\r\n",
      "    open Microsoft.Quantum.Core;\r\n",
      "    open Microsoft.Quantum.Intrinsic;\r\n",
      "    open Microsoft.Quantum.Canon;\r\n",
      "    open Microsoft.Quantum.Chemistry;\r\n",
      "    open Microsoft.Quantum.Chemistry.JordanWigner;  \r\n",
      "    open Microsoft.Quantum.Simulation;\r\n",
      "    open Microsoft.Quantum.Characterization;\r\n",
      "    open Microsoft.Quantum.Convert;\r\n",
      "    open Microsoft.Quantum.Math;\r\n",
      "\r\n",
      "    operation GetEnergyByTrotterization (\r\n",
      "        JWEncodedData: JordanWignerEncodingData,\r\n",
      "        nBitsPrecision : Int, \r\n",
      "        trotterStepSize : Double, \r\n",
      "        trotterOrder : Int\r\n",
      "    ) : (Double, Double) {\r\n",
      "\r\n",
      "        let (nSpinOrbitals, fermionTermData, inputState, energyOffset) = JWEncodedData!;\r\n",
      "        let (nQubits, (rescaleFactor, oracle)) = TrotterStepOracle(JWEncodedData, trotterStepSize, trotterOrder);\r\n",
      "        let statePrep = PrepareTrialState(inputState, _);\r\n",
      "        let phaseEstAlgorithm = RobustPhaseEstimation(nBitsPrecision, _, _);\r\n",
      "        let estPhase = EstimateEnergy(nQubits, statePrep, oracle, phaseEstAlgorithm);\r\n",
      "        let estEnergy = estPhase * rescaleFactor + energyOffset;\r\n",
      "\r\n",
      "        return (estPhase, estEnergy);\r\n",
      "    }\r\n",
      "}\r\n"
     ]
    }
   ],
   "source": [
    "cat GetEnergyByTrot.qs"
   ]
  },
  {
   "cell_type": "code",
   "execution_count": 7,
   "metadata": {},
   "outputs": [
    {
     "data": {
      "application/json": "{\"LastUpdated\":\"2020-12-11T14:09:48.7827153-08:00\",\"IsCompleted\":false,\"Description\":\"Reloading workspace\",\"Subtask\":null}",
      "text/plain": [
       "Reloading workspace."
      ]
     },
     "metadata": {},
     "output_type": "display_data"
    }
   ],
   "source": [
    "qsharp.reload()\n",
    "\n",
    "from QDK.Chemistry.Trotterization import GetEnergyByTrotterization"
   ]
  },
  {
   "cell_type": "code",
   "execution_count": 8,
   "metadata": {},
   "outputs": [
    {
     "name": "stdout",
     "output_type": "stream",
     "text": [
      "CPU times: user 3.26 ms, sys: 207 µs, total: 3.46 ms\n",
      "Wall time: 1.58 s\n"
     ]
    },
    {
     "data": {
      "text/plain": [
       "{'CNOT': 211616,\n",
       " 'QubitClifford': 124794,\n",
       " 'R': 81068,\n",
       " 'Measure': 317,\n",
       " 'T': 0,\n",
       " 'Depth': 0,\n",
       " 'Width': 5,\n",
       " 'QubitCount': 5,\n",
       " 'BorrowedWidth': 0}"
      ]
     },
     "execution_count": 8,
     "metadata": {},
     "output_type": "execute_result"
    }
   ],
   "source": [
    "%%time\n",
    "GetEnergyByTrotterization.estimate_resources(\n",
    "    JWEncodedData=(num_qubits, hamiltonian_term_list, input_state_terms, energy_offset), \n",
    "    nBitsPrecision=7,\n",
    "    trotterStepSize=0.4, \n",
    "    trotterOrder=1)"
   ]
  },
  {
   "cell_type": "code",
   "execution_count": null,
   "metadata": {},
   "outputs": [],
   "source": []
  }
 ],
 "metadata": {
  "kernelspec": {
   "display_name": "Python 3",
   "language": "python",
   "name": "python3"
  },
  "language_info": {
   "codemirror_mode": {
    "name": "ipython",
    "version": 3
   },
   "file_extension": ".py",
   "mimetype": "text/x-python",
   "name": "python",
   "nbconvert_exporter": "python",
   "pygments_lexer": "ipython3",
   "version": "3.7.9"
  }
 },
 "nbformat": 4,
 "nbformat_minor": 4
}
