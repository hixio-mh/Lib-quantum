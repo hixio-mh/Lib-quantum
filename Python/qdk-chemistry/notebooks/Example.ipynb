{
 "cells": [
  {
   "cell_type": "markdown",
   "metadata": {},
   "source": [
    "# Example usage of JSME and JsMol widgets"
   ]
  },
  {
   "cell_type": "code",
   "execution_count": 1,
   "metadata": {
    "scrolled": true
   },
   "outputs": [],
   "source": [
    "from qdk_chemistry.widgets import JsmeWidget, JsmolWidget"
   ]
  },
  {
   "cell_type": "markdown",
   "metadata": {},
   "source": [
    "1. Design molecule"
   ]
  },
  {
   "cell_type": "code",
   "execution_count": 2,
   "metadata": {},
   "outputs": [],
   "source": [
    "w = JsmeWidget()"
   ]
  },
  {
   "cell_type": "code",
   "execution_count": 3,
   "metadata": {
    "scrolled": false
   },
   "outputs": [
    {
     "data": {
      "text/html": [
       "\n",
       "<script type=\"text/javascript\" src=\"/nbextensions/jupyter_jsme/jsme/jsme.nocache.js\"></script>\n",
       "<script type=\"text/javascript\">\n",
       "function jsmeOnLoad() {\n",
       "    jsmeApp_4bdeece81e3b11eb9e58214b29bd0608 = new JSApplet.JSME(\"JSApp_4bdeece81e3b11eb9e58214b29bd0608\", \"400px\", \"350px\", {\n",
       "        \"options\" : \"query,hydrogens\",\n",
       "        \"smiles\": \"\"\n",
       "    });\n",
       "}\n",
       "\n",
       "function saveAs_4bdeece81e3b11eb9e58214b29bd0608(var_name) {\n",
       "    var molblock = jsmeApp_4bdeece81e3b11eb9e58214b29bd0608.molFile();\n",
       "    var smiles = jsmeApp_4bdeece81e3b11eb9e58214b29bd0608.smiles();\n",
       "    var jme = jsmeApp_4bdeece81e3b11eb9e58214b29bd0608.jmeFile();\n",
       "    var command = var_name + '.set_value(jme=\"' + jme + '\", smiles=\"' + smiles + '\", molblock=\"\"\"' + molblock + '\"\"\")';\n",
       "    console.log(command);\n",
       "    IPython.notebook.kernel.execute(command);\n",
       "}\n",
       "\n",
       "</script>\n",
       "<div id=\"JSApp_4bdeece81e3b11eb9e58214b29bd0608\"></div>\n"
      ],
      "text/plain": [
       "<IPython.core.display.HTML object>"
      ]
     },
     "metadata": {},
     "output_type": "display_data"
    },
    {
     "data": {
      "application/vnd.jupyter.widget-view+json": {
       "model_id": "dab492508fd244749f527f436e58374a",
       "version_major": 2,
       "version_minor": 0
      },
      "text/plain": [
       "JsmeWidgetButton(description='Save', style=ButtonStyle())"
      ]
     },
     "metadata": {},
     "output_type": "display_data"
    },
    {
     "data": {
      "application/javascript": [
       "saveAs_4bdeece81e3b11eb9e58214b29bd0608('w')"
      ],
      "text/plain": [
       "<IPython.core.display.Javascript object>"
      ]
     },
     "metadata": {},
     "output_type": "display_data"
    }
   ],
   "source": [
    "w"
   ]
  },
  {
   "cell_type": "code",
   "execution_count": 4,
   "metadata": {},
   "outputs": [
    {
     "data": {
      "image/png": "[encoded data removed]",
      "text/plain": [
       "<rdkit.Chem.rdchem.Mol at 0x7efe823963f0>"
      ]
     },
     "execution_count": 4,
     "metadata": {},
     "output_type": "execute_result"
    }
   ],
   "source": [
    "mol = w.to_mol(add_hs=True)\n",
    "mol"
   ]
  },
  {
   "cell_type": "markdown",
   "metadata": {},
   "source": [
    "2. Generate XYZ file from SMILES using rdkit"
   ]
  },
  {
   "cell_type": "code",
   "execution_count": 5,
   "metadata": {
    "scrolled": false
   },
   "outputs": [
    {
     "data": {
      "application/vnd.jupyter.widget-view+json": {
       "model_id": "512b2e2f807d4a279ee26c805eaa647c",
       "version_major": 2,
       "version_minor": 0
      },
      "text/plain": [
       "JsmolWidget(layout=Layout(align_self='stretch', height='400px'))"
      ]
     },
     "metadata": {},
     "output_type": "display_data"
    }
   ],
   "source": [
    "JsmolWidget.from_mol(mol)"
   ]
  },
  {
   "cell_type": "markdown",
   "metadata": {},
   "source": [
    "## Larger example: Beta carotene"
   ]
  },
  {
   "cell_type": "code",
   "execution_count": 6,
   "metadata": {},
   "outputs": [],
   "source": [
    "w2 = JsmeWidget(smiles=\"C/C(=C\\\\C=C\\\\C=C(C)\\\\C=C\\\\C=C(C)\\\\C=C\\\\C1=C(C)CCCC1(C)C)/C=C/C=C(C)/C=C/C2=C(C)CCCC2(C)C\")"
   ]
  },
  {
   "cell_type": "code",
   "execution_count": 7,
   "metadata": {
    "scrolled": false
   },
   "outputs": [
    {
     "data": {
      "text/html": [
       "\n",
       "<script type=\"text/javascript\" src=\"/nbextensions/jupyter_jsme/jsme/jsme.nocache.js\"></script>\n",
       "<script type=\"text/javascript\">\n",
       "function jsmeOnLoad() {\n",
       "    jsmeApp_59e883621e3b11eb9e58214b29bd0608 = new JSApplet.JSME(\"JSApp_59e883621e3b11eb9e58214b29bd0608\", \"400px\", \"350px\", {\n",
       "        \"options\" : \"query,hydrogens\",\n",
       "        \"smiles\": \"C/C(=C\\C=C\\C=C(C)\\C=C\\C=C(C)\\C=C\\C1=C(C)CCCC1(C)C)/C=C/C=C(C)/C=C/C2=C(C)CCCC2(C)C\"\n",
       "    });\n",
       "}\n",
       "\n",
       "function saveAs_59e883621e3b11eb9e58214b29bd0608(var_name) {\n",
       "    var molblock = jsmeApp_59e883621e3b11eb9e58214b29bd0608.molFile();\n",
       "    var smiles = jsmeApp_59e883621e3b11eb9e58214b29bd0608.smiles();\n",
       "    var jme = jsmeApp_59e883621e3b11eb9e58214b29bd0608.jmeFile();\n",
       "    var command = var_name + '.set_value(jme=\"' + jme + '\", smiles=\"' + smiles + '\", molblock=\"\"\"' + molblock + '\"\"\")';\n",
       "    console.log(command);\n",
       "    IPython.notebook.kernel.execute(command);\n",
       "}\n",
       "\n",
       "</script>\n",
       "<div id=\"JSApp_59e883621e3b11eb9e58214b29bd0608\"></div>\n"
      ],
      "text/plain": [
       "<IPython.core.display.HTML object>"
      ]
     },
     "metadata": {},
     "output_type": "display_data"
    },
    {
     "data": {
      "application/vnd.jupyter.widget-view+json": {
       "model_id": "63665d3c90e54e38a1d02e7c05a237e5",
       "version_major": 2,
       "version_minor": 0
      },
      "text/plain": [
       "JsmeWidgetButton(description='Save', style=ButtonStyle())"
      ]
     },
     "metadata": {},
     "output_type": "display_data"
    }
   ],
   "source": [
    "w2"
   ]
  },
  {
   "cell_type": "code",
   "execution_count": 8,
   "metadata": {},
   "outputs": [
    {
     "data": {
      "image/png": "[encoded data removed]",
      "text/plain": [
       "<rdkit.Chem.rdchem.Mol at 0x7efe823a5800>"
      ]
     },
     "execution_count": 8,
     "metadata": {},
     "output_type": "execute_result"
    }
   ],
   "source": [
    "bc = w2.to_mol(add_hs=True)\n",
    "bc"
   ]
  },
  {
   "cell_type": "code",
   "execution_count": 9,
   "metadata": {},
   "outputs": [
    {
     "name": "stdout",
     "output_type": "stream",
     "text": [
      "Solution did not converge. Lowest energy found: 101.35267793737289\n"
     ]
    },
    {
     "data": {
      "application/vnd.jupyter.widget-view+json": {
       "model_id": "94516eec7b074ec6beb77aaef61bff94",
       "version_major": 2,
       "version_minor": 0
      },
      "text/plain": [
       "JsmolWidget(layout=Layout(align_self='stretch', height='400px'))"
      ]
     },
     "metadata": {},
     "output_type": "display_data"
    }
   ],
   "source": [
    "JsmolWidget.from_mol(bc)"
   ]
  },
  {
   "cell_type": "markdown",
   "metadata": {},
   "source": [
    "## Larger example: FeMoCo"
   ]
  },
  {
   "cell_type": "code",
   "execution_count": 10,
   "metadata": {},
   "outputs": [],
   "source": [
    "w3 = JsmeWidget(smiles=\"[S@@]12[Fe]345(SC)[Fe]6781[C@]19[Fe]%10%11%12%13S[Fe]%143%10([S@@]46)[Fe]321(S[Fe]12%113[S@@]%12[Mo]34(OC(=O)CO4)([S@@]%13[Fe]791(S8)[S@@]23)N1CNC=C1)[S@@]5%14\")\n",
    "# Replace Carbon atom with Chromium to circumvent RDKit valence issue"
   ]
  },
  {
   "cell_type": "code",
   "execution_count": 11,
   "metadata": {
    "scrolled": false
   },
   "outputs": [
    {
     "data": {
      "text/html": [
       "\n",
       "<script type=\"text/javascript\" src=\"/nbextensions/jupyter_jsme/jsme/jsme.nocache.js\"></script>\n",
       "<script type=\"text/javascript\">\n",
       "function jsmeOnLoad() {\n",
       "    jsmeApp_60660a7a1e3b11eb9e58214b29bd0608 = new JSApplet.JSME(\"JSApp_60660a7a1e3b11eb9e58214b29bd0608\", \"400px\", \"350px\", {\n",
       "        \"options\" : \"query,hydrogens\",\n",
       "        \"smiles\": \"[S@@]12[Fe]345(SC)[Fe]6781[C@]19[Fe]%10%11%12%13S[Fe]%143%10([S@@]46)[Fe]321(S[Fe]12%113[S@@]%12[Mo]34(OC(=O)CO4)([S@@]%13[Fe]791(S8)[S@@]23)N1CNC=C1)[S@@]5%14\"\n",
       "    });\n",
       "}\n",
       "\n",
       "function saveAs_60660a7a1e3b11eb9e58214b29bd0608(var_name) {\n",
       "    var molblock = jsmeApp_60660a7a1e3b11eb9e58214b29bd0608.molFile();\n",
       "    var smiles = jsmeApp_60660a7a1e3b11eb9e58214b29bd0608.smiles();\n",
       "    var jme = jsmeApp_60660a7a1e3b11eb9e58214b29bd0608.jmeFile();\n",
       "    var command = var_name + '.set_value(jme=\"' + jme + '\", smiles=\"' + smiles + '\", molblock=\"\"\"' + molblock + '\"\"\")';\n",
       "    console.log(command);\n",
       "    IPython.notebook.kernel.execute(command);\n",
       "}\n",
       "\n",
       "</script>\n",
       "<div id=\"JSApp_60660a7a1e3b11eb9e58214b29bd0608\"></div>\n"
      ],
      "text/plain": [
       "<IPython.core.display.HTML object>"
      ]
     },
     "metadata": {},
     "output_type": "display_data"
    },
    {
     "data": {
      "application/vnd.jupyter.widget-view+json": {
       "model_id": "fc3536c85e3c413d8189a12c630df683",
       "version_major": 2,
       "version_minor": 0
      },
      "text/plain": [
       "JsmeWidgetButton(description='Save', style=ButtonStyle())"
      ]
     },
     "metadata": {},
     "output_type": "display_data"
    }
   ],
   "source": [
    "w3"
   ]
  },
  {
   "cell_type": "code",
   "execution_count": 12,
   "metadata": {
    "scrolled": true
   },
   "outputs": [
    {
     "name": "stderr",
     "output_type": "stream",
     "text": [
      "RDKit ERROR: [17:16:34] UFFTYPER: Unrecognized charge state for atom: 0\n",
      "RDKit ERROR: [17:16:34] UFFTYPER: Unrecognized hybridization for atom: 1\n",
      "RDKit ERROR: [17:16:34] UFFTYPER: Unrecognized atom type: Fe (1)\n",
      "RDKit ERROR: [17:16:34] UFFTYPER: Unrecognized hybridization for atom: 4\n",
      "RDKit ERROR: [17:16:34] UFFTYPER: Unrecognized atom type: Fe (4)\n",
      "RDKit ERROR: [17:16:34] UFFTYPER: Unrecognized hybridization for atom: 6\n",
      "RDKit ERROR: [17:16:34] UFFTYPER: Unrecognized atom type: Fe (6)\n",
      "RDKit ERROR: [17:16:34] UFFTYPER: Unrecognized hybridization for atom: 8\n",
      "RDKit ERROR: [17:16:34] UFFTYPER: Unrecognized atom type: Fe (8)\n",
      "RDKit ERROR: [17:16:34] UFFTYPER: Unrecognized charge state for atom: 9\n",
      "RDKit ERROR: [17:16:34] UFFTYPER: Unrecognized hybridization for atom: 10\n",
      "RDKit ERROR: [17:16:34] UFFTYPER: Unrecognized atom type: Fe (10)\n",
      "RDKit ERROR: [17:16:34] UFFTYPER: Unrecognized hybridization for atom: 12\n",
      "RDKit ERROR: [17:16:34] UFFTYPER: Unrecognized atom type: Fe (12)\n",
      "RDKit ERROR: [17:16:34] UFFTYPER: Unrecognized charge state for atom: 13\n",
      "RDKit ERROR: [17:16:34] UFFTYPER: Unrecognized atom type: Mo6 (14)\n",
      "RDKit ERROR: [17:16:34] UFFTYPER: Unrecognized charge state for atom: 20\n",
      "RDKit ERROR: [17:16:34] UFFTYPER: Unrecognized hybridization for atom: 21\n",
      "RDKit ERROR: [17:16:34] UFFTYPER: Unrecognized atom type: Fe (21)\n",
      "RDKit ERROR: [17:16:34] UFFTYPER: Unrecognized charge state for atom: 23\n",
      "RDKit ERROR: [17:16:34] UFFTYPER: Unrecognized charge state for atom: 29\n"
     ]
    },
    {
     "data": {
      "image/png": "[encoded data removed]",
      "text/plain": [
       "<rdkit.Chem.rdchem.Mol at 0x7efe8026ae40>"
      ]
     },
     "execution_count": 12,
     "metadata": {},
     "output_type": "execute_result"
    }
   ],
   "source": [
    "femoco = w3.to_mol(add_hs=True)\n",
    "femoco"
   ]
  },
  {
   "cell_type": "code",
   "execution_count": 13,
   "metadata": {
    "scrolled": false
   },
   "outputs": [
    {
     "name": "stdout",
     "output_type": "stream",
     "text": [
      "Solution did not converge. Lowest energy found: -1.0\n"
     ]
    },
    {
     "data": {
      "application/vnd.jupyter.widget-view+json": {
       "model_id": "202908b6f7c04999b0d7c5c57b0502c3",
       "version_major": 2,
       "version_minor": 0
      },
      "text/plain": [
       "JsmolWidget(layout=Layout(align_self='stretch', height='400px'))"
      ]
     },
     "metadata": {},
     "output_type": "display_data"
    }
   ],
   "source": [
    "JsmolWidget.from_mol(femoco)"
   ]
  },
  {
   "cell_type": "markdown",
   "metadata": {},
   "source": [
    "## H2O demo"
   ]
  },
  {
   "cell_type": "code",
   "execution_count": 14,
   "metadata": {},
   "outputs": [],
   "source": [
    "from qdk_chemistry.widgets import JsmeWidget, JsmolWidget"
   ]
  },
  {
   "cell_type": "code",
   "execution_count": 15,
   "metadata": {},
   "outputs": [],
   "source": [
    "mol_name = \"HHO\"\n",
    "smiles = \"O\"\n",
    "w = JsmeWidget(smiles=smiles)"
   ]
  },
  {
   "cell_type": "code",
   "execution_count": 16,
   "metadata": {},
   "outputs": [
    {
     "data": {
      "text/html": [
       "\n",
       "<script type=\"text/javascript\" src=\"/nbextensions/jupyter_jsme/jsme/jsme.nocache.js\"></script>\n",
       "<script type=\"text/javascript\">\n",
       "function jsmeOnLoad() {\n",
       "    jsmeApp_62ff1ede1e3b11eb9e58214b29bd0608 = new JSApplet.JSME(\"JSApp_62ff1ede1e3b11eb9e58214b29bd0608\", \"400px\", \"350px\", {\n",
       "        \"options\" : \"query,hydrogens\",\n",
       "        \"smiles\": \"O\"\n",
       "    });\n",
       "}\n",
       "\n",
       "function saveAs_62ff1ede1e3b11eb9e58214b29bd0608(var_name) {\n",
       "    var molblock = jsmeApp_62ff1ede1e3b11eb9e58214b29bd0608.molFile();\n",
       "    var smiles = jsmeApp_62ff1ede1e3b11eb9e58214b29bd0608.smiles();\n",
       "    var jme = jsmeApp_62ff1ede1e3b11eb9e58214b29bd0608.jmeFile();\n",
       "    var command = var_name + '.set_value(jme=\"' + jme + '\", smiles=\"' + smiles + '\", molblock=\"\"\"' + molblock + '\"\"\")';\n",
       "    console.log(command);\n",
       "    IPython.notebook.kernel.execute(command);\n",
       "}\n",
       "\n",
       "</script>\n",
       "<div id=\"JSApp_62ff1ede1e3b11eb9e58214b29bd0608\"></div>\n"
      ],
      "text/plain": [
       "<IPython.core.display.HTML object>"
      ]
     },
     "metadata": {},
     "output_type": "display_data"
    },
    {
     "data": {
      "application/vnd.jupyter.widget-view+json": {
       "model_id": "0d0a6d7ba8da41dfa6474eec2f32536f",
       "version_major": 2,
       "version_minor": 0
      },
      "text/plain": [
       "JsmeWidgetButton(description='Save', style=ButtonStyle())"
      ]
     },
     "metadata": {},
     "output_type": "display_data"
    },
    {
     "data": {
      "application/javascript": [
       "saveAs_62ff1ede1e3b11eb9e58214b29bd0608('w')"
      ],
      "text/plain": [
       "<IPython.core.display.Javascript object>"
      ]
     },
     "metadata": {},
     "output_type": "display_data"
    }
   ],
   "source": [
    "w"
   ]
  },
  {
   "cell_type": "code",
   "execution_count": 17,
   "metadata": {},
   "outputs": [
    {
     "data": {
      "image/png": "[encoded data removed]",
      "text/plain": [
       "<rdkit.Chem.rdchem.Mol at 0x7efe80275c60>"
      ]
     },
     "execution_count": 17,
     "metadata": {},
     "output_type": "execute_result"
    }
   ],
   "source": [
    "mol = w.to_mol(add_hs=True)\n",
    "mol"
   ]
  },
  {
   "cell_type": "code",
   "execution_count": 18,
   "metadata": {},
   "outputs": [
    {
     "data": {
      "application/vnd.jupyter.widget-view+json": {
       "model_id": "51a596aeade140ac9dae5aa8dd30d20c",
       "version_major": 2,
       "version_minor": 0
      },
      "text/plain": [
       "JsmolWidget(layout=Layout(align_self='stretch', height='400px'))"
      ]
     },
     "metadata": {},
     "output_type": "display_data"
    }
   ],
   "source": [
    "JsmolWidget.from_mol(mol)"
   ]
  },
  {
   "cell_type": "code",
   "execution_count": 22,
   "metadata": {},
   "outputs": [],
   "source": [
    "from qdk_chemistry.geometry import mol_to_xyz\n",
    "from qdk_chemistry.solvers.nwchem import num_electrons"
   ]
  },
  {
   "cell_type": "code",
   "execution_count": 23,
   "metadata": {},
   "outputs": [
    {
     "name": "stdout",
     "output_type": "stream",
     "text": [
      "3\n",
      "title\n",
      "O 0.0020817437206719826 0.3978095919721987 0.0 \n",
      "H 0.7624165715812864 -0.2028998079217236 0.0 \n",
      "H -0.7644983153019606 -0.19490978405047854 0.0 \n"
     ]
    }
   ],
   "source": [
    "xyz = mol_to_xyz(mol)\n",
    "print(xyz)"
   ]
  },
  {
   "cell_type": "code",
   "execution_count": 24,
   "metadata": {},
   "outputs": [],
   "source": [
    "from qdk_chemistry.solvers.nwchem import geometry_from_xyz"
   ]
  },
  {
   "cell_type": "code",
   "execution_count": 25,
   "metadata": {},
   "outputs": [
    {
     "name": "stdout",
     "output_type": "stream",
     "text": [
      "O 0.0020817437206719826 0.3978095919721987 0.0\n",
      "H 0.7624165715812864 -0.2028998079217236 0.0\n",
      "H -0.7644983153019606 -0.19490978405047854 0.0\n"
     ]
    }
   ],
   "source": [
    "geometry = geometry_from_xyz(xyz)\n",
    "print(geometry)"
   ]
  },
  {
   "cell_type": "markdown",
   "metadata": {},
   "source": [
    "### Create nw file"
   ]
  },
  {
   "cell_type": "code",
   "execution_count": 26,
   "metadata": {},
   "outputs": [],
   "source": [
    "from qdk_chemistry.solvers.nwchem import create_input_deck"
   ]
  },
  {
   "cell_type": "code",
   "execution_count": 27,
   "metadata": {},
   "outputs": [
    {
     "data": {
      "image/png": "[encoded data removed]",
      "text/plain": [
       "<rdkit.Chem.rdchem.Mol at 0x7efe80275c60>"
      ]
     },
     "execution_count": 27,
     "metadata": {},
     "output_type": "execute_result"
    }
   ],
   "source": [
    "mol"
   ]
  },
  {
   "cell_type": "code",
   "execution_count": 28,
   "metadata": {},
   "outputs": [
    {
     "data": {
      "text/plain": [
       "'HHO'"
      ]
     },
     "execution_count": 28,
     "metadata": {},
     "output_type": "execute_result"
    }
   ],
   "source": [
    "mol_name"
   ]
  },
  {
   "cell_type": "code",
   "execution_count": 29,
   "metadata": {},
   "outputs": [
    {
     "name": "stdout",
     "output_type": "stream",
     "text": [
      "\n",
      "start HHO_test\n",
      "\n",
      "echo\n",
      "memory stack 1000 mb heap 100 mb global 1000 mb noverify\n",
      "\n",
      "geometry units au\n",
      "symmetry c1\n",
      "O 0.0020817437206719826 0.3978095919721987 0.0\n",
      "H 0.7624165715812864 -0.2028998079217236 0.0\n",
      "H -0.7644983153019606 -0.19490978405047854 0.0\n",
      "end\n",
      "\n",
      "basis\n",
      "* library sto-3g\n",
      "end\n",
      "\n",
      "charge 0\n",
      "\n",
      "scf\n",
      "thresh 1.0e-10\n",
      "tol2e 1e-10\n",
      "rhf\n",
      "singlet\n",
      "\n",
      "end\n",
      "\n",
      "tce\n",
      "ccsd\n",
      "tilesize 1\n",
      "2eorb\n",
      "2emet 13\n",
      "nroots 5\n",
      "thresh 1.0e-06\n",
      "end\n",
      "\n",
      "set tce:print_integrals T\n",
      "set tce:qorb 7\n",
      "set tce:qela 5\n",
      "set tce:qelb 5\n",
      "\n",
      "task tce energy\n",
      "\n"
     ]
    }
   ],
   "source": [
    "nw_chem_input = create_input_deck(mol_name=mol_name, geometry=geometry, num_active_orbitals=7, mol=mol)\n",
    "print(nw_chem_input)"
   ]
  },
  {
   "cell_type": "code",
   "execution_count": 16,
   "metadata": {},
   "outputs": [],
   "source": [
    "with open(f\"data/{mol_name}.nw\", \"w\") as f:\n",
    "    f.write(nw_chem_input)"
   ]
  },
  {
   "cell_type": "markdown",
   "metadata": {},
   "source": [
    "### Get Broombridge"
   ]
  },
  {
   "cell_type": "markdown",
   "metadata": {},
   "source": [
    "Run with Docker:\n",
    "```bash\n",
    "docker run -v C:\\Users\\guenp\\Documents:\"/opt/data\" --entrypoint='yaml_driver' nwchemorg/nwchem-qc /opt/data/test.nw\n",
    "```\n",
    "\n",
    "Or use Chemistry service PoC:"
   ]
  },
  {
   "cell_type": "code",
   "execution_count": 1,
   "metadata": {},
   "outputs": [],
   "source": [
    "import sys\n",
    "sys.path.append(\"/home/guen/repos/qdk-private/src/Python\")"
   ]
  },
  {
   "cell_type": "code",
   "execution_count": 2,
   "metadata": {},
   "outputs": [
    {
     "name": "stderr",
     "output_type": "stream",
     "text": [
      "INFO:azure.quantum:version: 0.0.0.1\n",
      "INFO:azure.quantum.workspace:Using CANARY configuration.\n"
     ]
    }
   ],
   "source": [
    "import logging\n",
    "logging.basicConfig(level=logging.WARNING)\n",
    "logger = logging.getLogger('azure.quantum')\n",
    "logger.setLevel(logging.INFO)\n",
    "\n",
    "\n",
    "import uuid\n",
    "import sys\n",
    "import io\n",
    "import os\n",
    "os.environ['AZURE_QUANTUM_ENV'] = 'canary'\n",
    "os.environ['AZURE_QUANTUM_STORAGE'] = ''\n",
    "\n",
    "from azure.quantum import Workspace, Job\n",
    "from azure_quantum_chemistry import ChemProblem, Chemistry\n",
    "import shutil"
   ]
  },
  {
   "cell_type": "code",
   "execution_count": 3,
   "metadata": {},
   "outputs": [],
   "source": [
    "ws = Workspace(\n",
    "     subscription_id=\"916dfd6d-030c-4bd9-b579-7bb6d1926e97\",\n",
    "     resource_group=\"chemistry-test\", \n",
    "     name=\"chemistrydemo2\"\n",
    ")"
   ]
  },
  {
   "cell_type": "code",
   "execution_count": 4,
   "metadata": {},
   "outputs": [],
   "source": [
    "mol_name = \"HHO\""
   ]
  },
  {
   "cell_type": "code",
   "execution_count": 5,
   "metadata": {},
   "outputs": [],
   "source": [
    "from azure_quantum_chemistry import ChemSolver"
   ]
  },
  {
   "cell_type": "code",
   "execution_count": 6,
   "metadata": {},
   "outputs": [
    {
     "name": "stderr",
     "output_type": "stream",
     "text": [
      "INFO:azure.quantum.optimization.solvers:Submitting job with id: 8df05aac-1a1e-11eb-9124-2b9a9a59471a\n",
      "INFO:azure.quantum.workspace:Account(s) exists in aad token cache. Getting token for (userName: guenp@microsoft.com, tenantId: 72f988bf-86f1-41af-91ab-2d7cd011db47)\n",
      "INFO:azure.quantum.storage:Uploading blob 'inputData' to container 'job-8df05aac-1a1e-11eb-9124-2b9a9a59471a' on account: 'chemistrytests'\n",
      "INFO:azure.quantum.optimization.solvers:Submitting problem 'nwchem-problem'. Using payload from: 'https://chemistrytests.blob.core.windows.net/job-8df05aac-1a1e-11eb-9124-2b9a9a59471a/inputData'\n"
     ]
    },
    {
     "name": "stdout",
     "output_type": "stream",
     "text": [
      "............"
     ]
    },
    {
     "name": "stderr",
     "output_type": "stream",
     "text": [
      "INFO:azure.quantum.storage:Downloading blob 'rawOutputData' from container 'job-8df05aac-1a1e-11eb-9124-2b9a9a59471a' on account: 'chemistrytests'\n"
     ]
    },
    {
     "name": "stdout",
     "output_type": "stream",
     "text": [
      "\n",
      "The result file is : data/output/job-8df05aac-1a1e-11eb-9124-2b9a9a59471a.tar.gz\n"
     ]
    }
   ],
   "source": [
    "input_dir = 'data'\n",
    "input_files = [f'{mol_name}.nw']\n",
    "param_files = []\n",
    "output_dir = 'data/output'\n",
    "\n",
    "chem_problem = ChemProblem('nwchem-problem', input_dir, input_files, param_files)\n",
    "chem_solver = Chemistry(ws, chem_problem.gen_parameters(ChemSolver.nwchem))\n",
    "solution = chem_solver.optimize(chem_problem, output_dir=output_dir)\n",
    "print(f\"The result file is : {solution}\")"
   ]
  },
  {
   "cell_type": "code",
   "execution_count": 7,
   "metadata": {},
   "outputs": [
    {
     "name": "stdout",
     "output_type": "stream",
     "text": [
      "data/HHO.yaml\n"
     ]
    }
   ],
   "source": [
    "import os\n",
    "import tarfile\n",
    "output_dir =\"data\"\n",
    "\n",
    "bb_members = [member for member in tarfile.open(solution).getmembers() if member.name.endswith(\"yaml\")]\n",
    "tarfile.open(solution).extractall(path=output_dir, members=bb_members)\n",
    "bb_path = os.path.join(output_dir, os.path.split(bb_members[0].name)[1])\n",
    "print(bb_path)"
   ]
  },
  {
   "cell_type": "markdown",
   "metadata": {},
   "source": [
    "# Estimate resources with Q#"
   ]
  },
  {
   "cell_type": "code",
   "execution_count": 1,
   "metadata": {},
   "outputs": [],
   "source": [
    "import qsharp"
   ]
  },
  {
   "cell_type": "code",
   "execution_count": 2,
   "metadata": {},
   "outputs": [
    {
     "data": {
      "application/json": "{\"LastUpdated\":\"2020-10-30T11:43:10.2818154-07:00\",\"IsCompleted\":false,\"Description\":\"Adding package Microsoft.Quantum.Chemistry\",\"Subtask\":null}",
      "text/plain": [
       "Adding package Microsoft.Quantum.Chemistry."
      ]
     },
     "metadata": {},
     "output_type": "display_data"
    }
   ],
   "source": [
    "qsharp.packages.add(\"Microsoft.Quantum.Chemistry\")"
   ]
  },
  {
   "cell_type": "code",
   "execution_count": 3,
   "metadata": {},
   "outputs": [],
   "source": [
    "GetEnergyByTrotterization = qsharp.compile(\"\"\"\n",
    "open Microsoft.Quantum.Core;\n",
    "open Microsoft.Quantum.Intrinsic;\n",
    "open Microsoft.Quantum.Canon;\n",
    "open Microsoft.Quantum.Chemistry;\n",
    "open Microsoft.Quantum.Chemistry.JordanWigner;  \n",
    "open Microsoft.Quantum.Simulation;\n",
    "open Microsoft.Quantum.Characterization;\n",
    "open Microsoft.Quantum.Convert;\n",
    "open Microsoft.Quantum.Math;\n",
    "\n",
    "operation GetEnergyByTrotterization (\n",
    "    JWEncodedData: JordanWignerEncodingData,\n",
    "    nBitsPrecision : Int, \n",
    "    trotterStepSize : Double, \n",
    "    trotterOrder : Int\n",
    ") : (Double, Double) {\n",
    "\n",
    "    let (nSpinOrbitals, fermionTermData, inputState, energyOffset) = JWEncodedData!;\n",
    "    let (nQubits, (rescaleFactor, oracle)) = TrotterStepOracle(JWEncodedData, trotterStepSize, trotterOrder);\n",
    "    let statePrep = PrepareTrialState(inputState, _);\n",
    "    let phaseEstAlgorithm = RobustPhaseEstimation(nBitsPrecision, _, _);\n",
    "    let estPhase = EstimateEnergy(nQubits, statePrep, oracle, phaseEstAlgorithm);\n",
    "    let estEnergy = estPhase * rescaleFactor + energyOffset;\n",
    "    return (estPhase, estEnergy);\n",
    "}\n",
    "\"\"\")"
   ]
  },
  {
   "cell_type": "code",
   "execution_count": 4,
   "metadata": {
    "scrolled": true
   },
   "outputs": [
    {
     "data": {
      "application/json": "{\"LastUpdated\":\"2020-10-30T11:43:15.9292123-07:00\",\"IsCompleted\":false,\"Description\":\"Adding package microsoft.quantum.chemistry.jupyter\",\"Subtask\":null}",
      "text/plain": [
       "Adding package microsoft.quantum.chemistry.jupyter."
      ]
     },
     "metadata": {},
     "output_type": "display_data"
    }
   ],
   "source": [
    "from qsharp.chemistry import load_broombridge, load_fermion_hamiltonian, load_input_state, encode"
   ]
  },
  {
   "cell_type": "code",
   "execution_count": 5,
   "metadata": {},
   "outputs": [],
   "source": [
    "filename = \"data/HHO.yaml\"\n",
    "broombridge_data =  load_broombridge(filename)\n",
    "problem_description = broombridge_data.problem_description[0]\n",
    "ferm_hamiltonian = problem_description.load_fermion_hamiltonian()\n",
    "input_state = load_input_state(filename, \"|G>\")\n",
    "num_qubits, hamiltonian_term_list, input_state_terms, energy_offset = encode(ferm_hamiltonian, input_state)"
   ]
  },
  {
   "cell_type": "code",
   "execution_count": 6,
   "metadata": {},
   "outputs": [
    {
     "data": {
      "text/plain": [
       "14"
      ]
     },
     "execution_count": 6,
     "metadata": {},
     "output_type": "execute_result"
    }
   ],
   "source": [
    "num_qubits"
   ]
  },
  {
   "cell_type": "code",
   "execution_count": 39,
   "metadata": {},
   "outputs": [
    {
     "name": "stdout",
     "output_type": "stream",
     "text": [
      "CPU times: user 31.2 ms, sys: 40.5 ms, total: 71.8 ms\n",
      "Wall time: 2min 1s\n"
     ]
    },
    {
     "data": {
      "text/plain": [
       "{'CNOT': 47700736,\n",
       " 'QubitClifford': 19991810,\n",
       " 'R': 6538468,\n",
       " 'Measure': 327,\n",
       " 'T': 0,\n",
       " 'Depth': 0,\n",
       " 'Width': 15,\n",
       " 'BorrowedWidth': 0}"
      ]
     },
     "execution_count": 39,
     "metadata": {},
     "output_type": "execute_result"
    }
   ],
   "source": [
    "%%time\n",
    "GetEnergyByTrotterization.estimate_resources(\n",
    "    JWEncodedData=(num_qubits, hamiltonian_term_list, input_state_terms, energy_offset), \n",
    "    nBitsPrecision=7,\n",
    "    trotterStepSize=0.4, \n",
    "    trotterOrder=1)"
   ]
  },
  {
   "cell_type": "code",
   "execution_count": 7,
   "metadata": {},
   "outputs": [
    {
     "name": "stdout",
     "output_type": "stream",
     "text": [
      "CPU times: user 44.3 ms, sys: 60.5 ms, total: 105 ms\n",
      "Wall time: 3min 19s\n"
     ]
    },
    {
     "data": {
      "text/plain": [
       "(-0.031788186496807855, -41.881423046830825)"
      ]
     },
     "execution_count": 7,
     "metadata": {},
     "output_type": "execute_result"
    }
   ],
   "source": [
    "%%time\n",
    "result = GetEnergyByTrotterization.simulate(\n",
    "    JWEncodedData=(num_qubits, hamiltonian_term_list, input_state_terms, energy_offset), \n",
    "    nBitsPrecision=7,\n",
    "    trotterStepSize=0.4,\n",
    "    trotterOrder=1)\n",
    "result"
   ]
  },
  {
   "cell_type": "code",
   "execution_count": null,
   "metadata": {},
   "outputs": [],
   "source": []
  }
 ],
 "metadata": {
  "kernelspec": {
   "display_name": "Python 3",
   "language": "python",
   "name": "python3"
  },
  "language_info": {
   "codemirror_mode": {
    "name": "ipython",
    "version": 3
   },
   "file_extension": ".py",
   "mimetype": "text/x-python",
   "name": "python",
   "nbconvert_exporter": "python",
   "pygments_lexer": "ipython3",
   "version": "3.7.9"
  }
 },
 "nbformat": 4,
 "nbformat_minor": 4
}
